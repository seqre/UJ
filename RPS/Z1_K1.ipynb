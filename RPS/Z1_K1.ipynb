{
 "cells": [
  {
   "cell_type": "markdown",
   "metadata": {},
   "source": [
    "Rozważ grę wykorzystującą generator liczb losowych losujący w sposób\n",
    "niezależny i równomierny liczby losowe z ciągłego przedziału między 1 a 100. Gra zaczyna się z sumą\n",
    "𝑆 = 0. Pierwszy gracz dodaje do S liczby losowe wygenerowane kolejno z generatora, dopóki 𝑆 < 100,\n",
    "i zapisuje ostatnią wygenerowaną liczbę 𝑥. Następnie, gracz drugi kontynuuje dodawanie do S liczb\n",
    "losowych z generatora, dopóki 𝑆 < 200, i zapisuje ostatnią wygenerowaną liczbę 𝑦. Gracz z większą\n",
    "liczbą wygrywa, np. jeśli 𝑦 > 𝑥, to wygrywa gracz drugi. Czy gra jest sprawiedliwa? Napisz program\n",
    "symulujący 100,000 gier i oszacuj za jego pomocą, z dokładnością do 3 miejsc po przecinku,\n",
    "prawdopodobieństwo, że gracz drugi wygra."
   ]
  },
  {
   "cell_type": "code",
   "execution_count": 1,
   "metadata": {},
   "outputs": [],
   "source": [
    "import random as r\n",
    "\n",
    "def get_num():\n",
    "    return r.uniform(0, 100)"
   ]
  },
  {
   "cell_type": "code",
   "execution_count": 2,
   "metadata": {},
   "outputs": [],
   "source": [
    "def play():\n",
    "    S: float = 0\n",
    "    first_player: float = 0\n",
    "    second_player: float = 0\n",
    "        \n",
    "    while S < 100:\n",
    "        first_player = get_num()\n",
    "        S += first_player\n",
    "        \n",
    "    while S < 200:\n",
    "        second_player = get_num()\n",
    "        S += second_player\n",
    "        \n",
    "    return 'first_player' if first_player > second_player else 'second_player'"
   ]
  },
  {
   "cell_type": "code",
   "execution_count": 3,
   "metadata": {},
   "outputs": [],
   "source": [
    "results = {\n",
    "    'first_player': 0,\n",
    "    'second_player': 0\n",
    "}\n",
    "\n",
    "game_num = 1_000_000"
   ]
  },
  {
   "cell_type": "code",
   "execution_count": 4,
   "metadata": {},
   "outputs": [],
   "source": [
    "def show_player_result(player: str, won_games: int):\n",
    "    player_winning_probability = results[player] / game_num\n",
    "    print(f'Player { player } won { won_games } games and achieved { round(player_winning_probability, 3) } winning probability')"
   ]
  },
  {
   "cell_type": "code",
   "execution_count": 5,
   "metadata": {},
   "outputs": [],
   "source": [
    "for _ in range(game_num):\n",
    "    results[play()] += 1"
   ]
  },
  {
   "cell_type": "code",
   "execution_count": 6,
   "metadata": {},
   "outputs": [
    {
     "name": "stdout",
     "output_type": "stream",
     "text": [
      "Player first_player won 472101 games and achieved 0.472 winning probability\n",
      "Player second_player won 527899 games and achieved 0.528 winning probability\n"
     ]
    }
   ],
   "source": [
    "for k,v in results.items():\n",
    "    show_player_result(k, v)"
   ]
  },
  {
   "cell_type": "code",
   "execution_count": null,
   "metadata": {},
   "outputs": [],
   "source": []
  }
 ],
 "metadata": {
  "kernelspec": {
   "display_name": "Python 3",
   "language": "python",
   "name": "python3"
  },
  "language_info": {
   "codemirror_mode": {
    "name": "ipython",
    "version": 3
   },
   "file_extension": ".py",
   "mimetype": "text/x-python",
   "name": "python",
   "nbconvert_exporter": "python",
   "pygments_lexer": "ipython3",
   "version": "3.7.6"
  }
 },
 "nbformat": 4,
 "nbformat_minor": 4
}
