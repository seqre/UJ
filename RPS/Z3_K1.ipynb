{
 "cells": [
  {
   "cell_type": "markdown",
   "metadata": {},
   "source": [
    "## Treść zadania\n",
    "\n",
    "W grze bierze udział 𝑟 graczy, przy czym *i*-ty gracz posiada *n<sub>i</sub>* żetonów,\n",
    "*n<sub>i</sub>* > 0, *i* = 1, ... , *r*. W każdej turze wybieranych jest losowo dwóch graczy, a zwycięzca zabiera jeden żeton przegranemu. Gracz, który zostanie bez żetonów jest eliminowany z gry, która jest kontynuowana,\n",
    "dopóki jeden gracz nie zbierze wszystkich *n* żetonów. Ten gracz wygrywa całą grę.\n",
    "\n",
    "Zakładając, że wyniki rozgrywek w kolejnych turach są od siebie niezależne, a w każdej z nich szanse na wygraną każdego z dwóch graczy są jednakowe (1/2), znajdź *P<sub>i</sub>* – prawdopodobieństwo, że całą grę\n",
    "wygra gracz *i*-ty.\n",
    "\n",
    "W celu rozwiązania zadania przeprowadź symulację komputerową. Eksperymentuj z różnymi początkowymi układami żetonów, dla każdego układu przeprowadź wystarczająco dużo symulacji, aby otrzymać wiarygodne wyniki (np. 10,000 symulacji). Czy dostrzegasz jakiś związek między wartościami *n<sub>i</sub>* i *n* a *P*?"
   ]
  },
  {
   "cell_type": "code",
   "execution_count": 1,
   "metadata": {},
   "outputs": [],
   "source": [
    "import random as r\n",
    "from datetime import datetime as dt\n",
    "from operator import itemgetter as ig"
   ]
  },
  {
   "cell_type": "code",
   "execution_count": 2,
   "metadata": {},
   "outputs": [],
   "source": [
    "class Player:\n",
    "    def __init__(self, id_num: int, coins: int):\n",
    "        self.id = id_num\n",
    "        self.coins = coins\n",
    "        self.starting_coins = coins\n",
    "        \n",
    "        \n",
    "    def can_play(self) -> bool:\n",
    "        return self.coins > 0\n",
    "    \n",
    "    \n",
    "    def remove_coin(self):\n",
    "        self.coins -= 1\n",
    "    \n",
    "    \n",
    "    def add_coin(self):\n",
    "        self.coins += 1"
   ]
  },
  {
   "cell_type": "code",
   "execution_count": 3,
   "metadata": {},
   "outputs": [],
   "source": [
    "class Game:\n",
    "    def __init__(self, players_num: int, coins_num: int):\n",
    "        self.players_num = players_num\n",
    "        self.coins_num = coins_num\n",
    "        self.rounds_num = 0\n",
    "        self.playing_players = []\n",
    "        self.lost_players = []\n",
    "        self.players_prob = [0.0 for _ in range(self.players_num)]\n",
    "        self.start_time = dt.now()\n",
    "        \n",
    "        \n",
    "    def shuffle_coins(self):\n",
    "        self.shuffled_coins = [1 for _ in range(self.players_num)]\n",
    "        \n",
    "        for _ in range(self.coins_num - self.players_num):\n",
    "            index = r.randrange(self.players_num)\n",
    "            self.shuffled_coins[index] += 1\n",
    "    \n",
    "    \n",
    "    def reset(self):\n",
    "        self.playing_players = []\n",
    "        self.lost_players = []\n",
    "\n",
    "        for id_num, coins in enumerate(self.shuffled_coins):\n",
    "            self.playing_players.append(Player(id_num, coins))\n",
    "    \n",
    "    \n",
    "    def play(self):\n",
    "        self.rounds_num += 1\n",
    "        while len(self.playing_players) > 1:\n",
    "            players = r.sample(self.playing_players, k=2)\n",
    "            self.__players_play(players)\n",
    "        \n",
    "        self.players_prob[self.playing_players[0].id] += 1\n",
    "        # self.print_data()\n",
    "    \n",
    "    def __players_play(self, players):\n",
    "        players[0].add_coin()\n",
    "        players[1].remove_coin()\n",
    "\n",
    "        if not players[1].can_play():\n",
    "            self.playing_players.remove(players[1])\n",
    "            self.lost_players.append(players[1])\n",
    "            \n",
    "    def print_results(self):\n",
    "        self.players_prob = [x/self.rounds_num for x in self.players_prob]\n",
    "\n",
    "        self.lost_players.append(self.playing_players[0])\n",
    "        \n",
    "        out = [(x.id, x.starting_coins, self.players_prob[x.id]) for x in self.lost_players]\n",
    "        \n",
    "        print(f'Players: {self.players_num}, coins: {self.coins_num}, took: {(dt.now() - self.start_time).total_seconds()} seconds')\n",
    "        print('id \\t starting_coins \\t winning_prob')\n",
    "        for player in sorted(out, key=ig(2), reverse=True):\n",
    "            print(f'{player[0]} \\t {player[1]} \\t\\t\\t {player[2]}')\n",
    "        \n",
    "    \n",
    "    def print_data(self):\n",
    "        print(self.shuffled_coins)\n",
    "        print([x.id for x in self.playing_players])\n",
    "        print([x.id for x in self.lost_players])\n",
    "        print(end='\\n\\n')"
   ]
  },
  {
   "cell_type": "code",
   "execution_count": 4,
   "metadata": {},
   "outputs": [],
   "source": [
    "# CONSTANTS\n",
    "PLAYERS = 15\n",
    "COINS = 100\n",
    "ROUNDS = 10_000"
   ]
  },
  {
   "cell_type": "code",
   "execution_count": 9,
   "metadata": {},
   "outputs": [
    {
     "name": "stdout",
     "output_type": "stream",
     "text": [
      "[0, 1, 2, 3, 4]\n"
     ]
    },
    {
     "ename": "KeyboardInterrupt",
     "evalue": "",
     "output_type": "error",
     "traceback": [
      "\u001b[0;31m---------------------------------------------------------------------------\u001b[0m",
      "\u001b[0;31mKeyboardInterrupt\u001b[0m                         Traceback (most recent call last)",
      "\u001b[0;32m<ipython-input-9-127fcbc15db2>\u001b[0m in \u001b[0;36m<module>\u001b[0;34m\u001b[0m\n\u001b[1;32m      4\u001b[0m \u001b[0;34m\u001b[0m\u001b[0m\n\u001b[1;32m      5\u001b[0m \u001b[0;32mfor\u001b[0m \u001b[0mi\u001b[0m\u001b[0;34m,\u001b[0m \u001b[0mc\u001b[0m \u001b[0;32min\u001b[0m \u001b[0menumerate\u001b[0m\u001b[0;34m(\u001b[0m\u001b[0mrange\u001b[0m\u001b[0;34m(\u001b[0m\u001b[0mCOINS\u001b[0m\u001b[0;34m,\u001b[0m \u001b[0mCOINS\u001b[0m\u001b[0;34m*\u001b[0m\u001b[0;36m9\u001b[0m\u001b[0;34m,\u001b[0m \u001b[0mCOINS\u001b[0m\u001b[0;34m*\u001b[0m\u001b[0;36m2\u001b[0m\u001b[0;34m)\u001b[0m\u001b[0;34m)\u001b[0m\u001b[0;34m:\u001b[0m      \u001b[0;31m# 100 -> 300 -> 500 -> 700 -> 900\u001b[0m\u001b[0;34m\u001b[0m\u001b[0;34m\u001b[0m\u001b[0m\n\u001b[0;32m----> 6\u001b[0;31m     \u001b[0mrc\u001b[0m\u001b[0;34m[\u001b[0m\u001b[0mi\u001b[0m\u001b[0;34m]\u001b[0m\u001b[0;34m.\u001b[0m\u001b[0mapply_sync\u001b[0m\u001b[0;34m(\u001b[0m\u001b[0mplay\u001b[0m\u001b[0;34m(\u001b[0m\u001b[0mc\u001b[0m\u001b[0;34m)\u001b[0m\u001b[0;34m)\u001b[0m\u001b[0;34m\u001b[0m\u001b[0;34m\u001b[0m\u001b[0m\n\u001b[0m",
      "\u001b[0;32m<ipython-input-5-6463cb2c704b>\u001b[0m in \u001b[0;36mplay\u001b[0;34m(c)\u001b[0m\n\u001b[1;32m      6\u001b[0m     \u001b[0;32mfor\u001b[0m \u001b[0m_\u001b[0m \u001b[0;32min\u001b[0m \u001b[0mrange\u001b[0m\u001b[0;34m(\u001b[0m\u001b[0mROUNDS\u001b[0m\u001b[0;34m)\u001b[0m\u001b[0;34m:\u001b[0m\u001b[0;34m\u001b[0m\u001b[0;34m\u001b[0m\u001b[0m\n\u001b[1;32m      7\u001b[0m         \u001b[0mgame\u001b[0m\u001b[0;34m.\u001b[0m\u001b[0mreset\u001b[0m\u001b[0;34m(\u001b[0m\u001b[0;34m)\u001b[0m\u001b[0;34m\u001b[0m\u001b[0;34m\u001b[0m\u001b[0m\n\u001b[0;32m----> 8\u001b[0;31m         \u001b[0mgame\u001b[0m\u001b[0;34m.\u001b[0m\u001b[0mplay\u001b[0m\u001b[0;34m(\u001b[0m\u001b[0;34m)\u001b[0m\u001b[0;34m\u001b[0m\u001b[0;34m\u001b[0m\u001b[0m\n\u001b[0m\u001b[1;32m      9\u001b[0m \u001b[0;34m\u001b[0m\u001b[0m\n\u001b[1;32m     10\u001b[0m     \u001b[0mgame\u001b[0m\u001b[0;34m.\u001b[0m\u001b[0mprint_results\u001b[0m\u001b[0;34m(\u001b[0m\u001b[0;34m)\u001b[0m\u001b[0;34m\u001b[0m\u001b[0;34m\u001b[0m\u001b[0m\n",
      "\u001b[0;32m<ipython-input-3-5e12a4e801bf>\u001b[0m in \u001b[0;36mplay\u001b[0;34m(self)\u001b[0m\n\u001b[1;32m     29\u001b[0m         \u001b[0mself\u001b[0m\u001b[0;34m.\u001b[0m\u001b[0mrounds_num\u001b[0m \u001b[0;34m+=\u001b[0m \u001b[0;36m1\u001b[0m\u001b[0;34m\u001b[0m\u001b[0;34m\u001b[0m\u001b[0m\n\u001b[1;32m     30\u001b[0m         \u001b[0;32mwhile\u001b[0m \u001b[0mlen\u001b[0m\u001b[0;34m(\u001b[0m\u001b[0mself\u001b[0m\u001b[0;34m.\u001b[0m\u001b[0mplaying_players\u001b[0m\u001b[0;34m)\u001b[0m \u001b[0;34m>\u001b[0m \u001b[0;36m1\u001b[0m\u001b[0;34m:\u001b[0m\u001b[0;34m\u001b[0m\u001b[0;34m\u001b[0m\u001b[0m\n\u001b[0;32m---> 31\u001b[0;31m             \u001b[0mplayers\u001b[0m \u001b[0;34m=\u001b[0m \u001b[0mr\u001b[0m\u001b[0;34m.\u001b[0m\u001b[0msample\u001b[0m\u001b[0;34m(\u001b[0m\u001b[0mself\u001b[0m\u001b[0;34m.\u001b[0m\u001b[0mplaying_players\u001b[0m\u001b[0;34m,\u001b[0m \u001b[0mk\u001b[0m\u001b[0;34m=\u001b[0m\u001b[0;36m2\u001b[0m\u001b[0;34m)\u001b[0m\u001b[0;34m\u001b[0m\u001b[0;34m\u001b[0m\u001b[0m\n\u001b[0m\u001b[1;32m     32\u001b[0m             \u001b[0mself\u001b[0m\u001b[0;34m.\u001b[0m\u001b[0m__players_play\u001b[0m\u001b[0;34m(\u001b[0m\u001b[0mplayers\u001b[0m\u001b[0;34m)\u001b[0m\u001b[0;34m\u001b[0m\u001b[0;34m\u001b[0m\u001b[0m\n\u001b[1;32m     33\u001b[0m \u001b[0;34m\u001b[0m\u001b[0m\n",
      "\u001b[0;32m/Library/Frameworks/Python.framework/Versions/3.8/lib/python3.8/random.py\u001b[0m in \u001b[0;36msample\u001b[0;34m(self, population, k)\u001b[0m\n\u001b[1;32m    313\u001b[0m                 \u001b[0mx\u001b[0m\u001b[0;34m[\u001b[0m\u001b[0mi\u001b[0m\u001b[0;34m]\u001b[0m\u001b[0;34m,\u001b[0m \u001b[0mx\u001b[0m\u001b[0;34m[\u001b[0m\u001b[0mj\u001b[0m\u001b[0;34m]\u001b[0m \u001b[0;34m=\u001b[0m \u001b[0mx\u001b[0m\u001b[0;34m[\u001b[0m\u001b[0mj\u001b[0m\u001b[0;34m]\u001b[0m\u001b[0;34m,\u001b[0m \u001b[0mx\u001b[0m\u001b[0;34m[\u001b[0m\u001b[0mi\u001b[0m\u001b[0;34m]\u001b[0m\u001b[0;34m\u001b[0m\u001b[0;34m\u001b[0m\u001b[0m\n\u001b[1;32m    314\u001b[0m \u001b[0;34m\u001b[0m\u001b[0m\n\u001b[0;32m--> 315\u001b[0;31m     \u001b[0;32mdef\u001b[0m \u001b[0msample\u001b[0m\u001b[0;34m(\u001b[0m\u001b[0mself\u001b[0m\u001b[0;34m,\u001b[0m \u001b[0mpopulation\u001b[0m\u001b[0;34m,\u001b[0m \u001b[0mk\u001b[0m\u001b[0;34m)\u001b[0m\u001b[0;34m:\u001b[0m\u001b[0;34m\u001b[0m\u001b[0;34m\u001b[0m\u001b[0m\n\u001b[0m\u001b[1;32m    316\u001b[0m         \"\"\"Chooses k unique random elements from a population sequence or set.\n\u001b[1;32m    317\u001b[0m \u001b[0;34m\u001b[0m\u001b[0m\n",
      "\u001b[0;31mKeyboardInterrupt\u001b[0m: "
     ]
    }
   ],
   "source": [
    "for c in range(COINS, COINS*9, COINS*2):      # 100 -> 1000\n",
    "    game = Game(PLAYERS, c)\n",
    "\n",
    "    game.shuffle_coins()\n",
    "\n",
    "    for _ in range(ROUNDS):\n",
    "        game.reset()\n",
    "        game.play()\n",
    "\n",
    "    game.print_results()"
   ]
  },
  {
   "cell_type": "markdown",
   "metadata": {},
   "source": [
    "## Konkluzje\n",
    "\n",
    "Z przeprowadzonych symulacji można wysnuć wniosek, że gracze, którzy na początku dostawali większą liczbę monet, radzili sobie zdecydowanie lepiej, niż gracze z ich mniejszą liczbą. Zarazem, gracze z największą liczbą monet wygrywali istotnie więcej razy niż reszta."
   ]
  },
  {
   "cell_type": "code",
   "execution_count": null,
   "metadata": {},
   "outputs": [],
   "source": []
  }
 ],
 "metadata": {
  "kernelspec": {
   "display_name": "Python 3",
   "language": "python",
   "name": "python3"
  },
  "language_info": {
   "codemirror_mode": {
    "name": "ipython",
    "version": 3
   },
   "file_extension": ".py",
   "mimetype": "text/x-python",
   "name": "python",
   "nbconvert_exporter": "python",
   "pygments_lexer": "ipython3",
   "version": "3.8.0"
  }
 },
 "nbformat": 4,
 "nbformat_minor": 4
}
