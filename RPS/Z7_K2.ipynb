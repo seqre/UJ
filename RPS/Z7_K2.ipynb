{
 "cells": [
  {
   "cell_type": "markdown",
   "metadata": {},
   "source": [
    "## Treść\n",
    "\n",
    "Poniższy problem nie ma prostego rozwiązania analitycznego, dlatego użyj metody Monte Carlo.\n",
    "\n",
    "Superkomputer dzielony jest przez 250 niezależnych użytkowników. Każdego dnia każdy użytkownik używa go z prawdopodobieństwem 0.3. Liczba zadań wysłanych przez aktywnego użytkownika ma rozkład geometryczny z p = 0.15. Czas na rozwiązanie pojedynczego zadania w minutach ma rozkład Gamma(10,3). Zadania przetwarzane są sekwencyjnie. Jakie jest prawdopodobieństwo, że wszystkie zadania zostaną przetworzone, tzn., że łączny żądany czas komputera będzie mniejszy niż 24 godziny? Oszacuj prawdopodobieństwo przyjmując margines błędu ±0.01 z prawdopodobieństwem 0.99. Oszacuj również wartość oczekiwaną i odchylenie standardowe całkowitego czasu przetwarzania."
   ]
  },
  {
   "cell_type": "code",
   "execution_count": 1,
   "metadata": {},
   "outputs": [],
   "source": [
    "# IMPORTS\n",
    "import random as r\n",
    "import numpy as np\n",
    "import matplotlib.pyplot as plt\n",
    "\n",
    "from scipy import stats\n",
    "\n",
    "%matplotlib inline"
   ]
  },
  {
   "cell_type": "code",
   "execution_count": 2,
   "metadata": {},
   "outputs": [],
   "source": [
    "# CONSTANTS\n",
    "USERS_NUM = 250\n",
    "USER_ACTIVE_PROB = 0.3\n",
    "USER_TASKS_PROB = 0.15\n",
    "GAMMA1 = 10\n",
    "GAMMA2 = 1/3\n",
    "DAY = 24 * 60\n",
    "MISTAKE_PROB = 0.99\n",
    "MISTAKE = 0.01\n",
    "REPEATS = 10_000 # Default value"
   ]
  },
  {
   "cell_type": "code",
   "execution_count": 3,
   "metadata": {},
   "outputs": [],
   "source": [
    "def calculate_needed_repeats():\n",
    "    eps = 1 - MISTAKE_PROB\n",
    "    z = stats.norm.ppf(MISTAKE/2)\n",
    "    N = 0.25 * (z / eps) ** 2\n",
    "    global REPEATS\n",
    "    REPEATS = int(N + 1)"
   ]
  },
  {
   "cell_type": "code",
   "execution_count": 4,
   "metadata": {},
   "outputs": [],
   "source": [
    "def is_user_active() -> bool:\n",
    "    return r.random() < USER_ACTIVE_PROB"
   ]
  },
  {
   "cell_type": "code",
   "execution_count": 5,
   "metadata": {},
   "outputs": [],
   "source": [
    "def tasks_num() -> int:\n",
    "    return np.random.default_rng().geometric(p=USER_TASKS_PROB)"
   ]
  },
  {
   "cell_type": "code",
   "execution_count": 6,
   "metadata": {},
   "outputs": [],
   "source": [
    "def task_time() -> int:\n",
    "    return np.random.default_rng().gamma(GAMMA1, GAMMA2)"
   ]
  },
  {
   "cell_type": "code",
   "execution_count": 7,
   "metadata": {},
   "outputs": [],
   "source": [
    "def is_mistake() -> int:\n",
    "    return r.random() < MISTAKE_PROB"
   ]
  },
  {
   "cell_type": "code",
   "execution_count": 8,
   "metadata": {},
   "outputs": [],
   "source": [
    "def simulation() -> float:\n",
    "    time = 0\n",
    "    for _ in range(250):\n",
    "        if is_user_active():\n",
    "            for t in range(tasks_num()):\n",
    "                time += task_time()\n",
    "    return time"
   ]
  },
  {
   "cell_type": "code",
   "execution_count": 9,
   "metadata": {},
   "outputs": [
    {
     "name": "stdout",
     "output_type": "stream",
     "text": [
      "Needed repeats of Monte Carlo simulation: 16588\n"
     ]
    }
   ],
   "source": [
    "less_than_24h = 0\n",
    "times = []\n",
    "\n",
    "calculate_needed_repeats()\n",
    "print('Needed repeats of Monte Carlo simulation:', REPEATS)"
   ]
  },
  {
   "cell_type": "code",
   "execution_count": 10,
   "metadata": {},
   "outputs": [],
   "source": [
    "# MAIN LOOP\n",
    "\n",
    "for _ in range(REPEATS):\n",
    "    result = simulation()\n",
    "    if result < DAY:\n",
    "        less_than_24h += 1\n",
    "    times.append(result)"
   ]
  },
  {
   "cell_type": "code",
   "execution_count": 11,
   "metadata": {},
   "outputs": [
    {
     "name": "stdout",
     "output_type": "stream",
     "text": [
      "Probability of working time less than 24h:\t 0.1756691584277791\n",
      "Expected working time:\t\t\t\t 1665.9309457205554\n",
      "Variance of working time:\t\t\t 58237.57837123063\n"
     ]
    }
   ],
   "source": [
    "prob = less_than_24h/REPEATS\n",
    "ex = sum(times)/REPEATS\n",
    "varx = sum([(x - ex)**2 for x in times])/REPEATS\n",
    "\n",
    "print('Probability of working time less than 24h:\\t', prob)\n",
    "print('Expected working time:\\t\\t\\t\\t', ex)\n",
    "print('Variance of working time:\\t\\t\\t', varx)"
   ]
  },
  {
   "cell_type": "markdown",
   "metadata": {},
   "source": [
    "### Autor\n",
    "\n",
    "Marek Grzelak"
   ]
  }
 ],
 "metadata": {
  "kernelspec": {
   "display_name": "Python 3",
   "language": "python",
   "name": "python3"
  },
  "language_info": {
   "codemirror_mode": {
    "name": "ipython",
    "version": 3
   },
   "file_extension": ".py",
   "mimetype": "text/x-python",
   "name": "python",
   "nbconvert_exporter": "python",
   "pygments_lexer": "ipython3",
   "version": "3.8.0"
  }
 },
 "nbformat": 4,
 "nbformat_minor": 4
}
